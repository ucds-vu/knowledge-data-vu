{
 "cells": [
  {
   "cell_type": "markdown",
   "metadata": {},
   "source": [
    "# Knowledge and Data: Practical Assignment 1 \n",
    "## Manipulate Propositional Logic and Simple Knowledge Graph Logic"
   ]
  },
  {
   "cell_type": "markdown",
   "metadata": {},
   "source": [
    "- YOUR NAME: Keimpe Rademaker\n",
    "\n",
    "- YOUR VUNetID: kra225\n",
    "\n",
    "*(If you do not provide your NAME and VUNetID we will not accept your submission.)*"
   ]
  },
  {
   "cell_type": "markdown",
   "metadata": {},
   "source": [
    "### Learning objectives"
   ]
  },
  {
   "cell_type": "markdown",
   "metadata": {},
   "source": [
    "At the end of this exercise you should be able to perform some simple manipulations of two different formal systems: \n",
    "1. You will be able to transform Propositional Logic statements from one syntactic form to semantically equivalent  alternative representation.\n",
    "2. You will be able to evaluate a Propositional Logic statements given some validation of the propositional variables. \n",
    "3. You will be able to transform one Knowledge Graph into an equivalent one with a different Syntax \n",
    "4. You will be able to calculate simple entailment between two Knowledge Graph"
   ]
  },
  {
   "cell_type": "markdown",
   "metadata": {},
   "source": [
    "### Practicalities"
   ]
  },
  {
   "cell_type": "markdown",
   "metadata": {},
   "source": [
    "Follow this Notebook step-by-step. Some of the exercises are already \n",
    "fully filled in to give you some examples of how to do things. Others are\n",
    "partially filled, and require you to fill in some gaps. And others, you \n",
    "will have to fully program yourself. \n",
    "\n",
    "Of course, you can do the exercises in any Programming Editor of your liking. \n",
    "But you do not have to. Feel free to simply write code in the Notebook. When \n",
    "everythink is filled in and works, save the Notebook and submit it \n",
    "as a Jupyter Notebook (i.e. with an ipynb extension). **Please use as name of the \n",
    "Notebook your studentID+Assignment1.ipynb**.  \n",
    "\n",
    "We will not evaluate the programming style of your solutions. Yet we do look whether your solutions suggests an understanding, and whether they yield the correct output. \n",
    "\n",
    "Note that all notebooks will automatically be checked for plagiarism: while similar answers can be expected, it is not allowed to directly copy the solutions from fellow students or TAs, or from the examples discussed during the lectures. Similarly, sharing your solutions with your peers is not allowed."
   ]
  },
  {
   "cell_type": "markdown",
   "metadata": {},
   "source": [
    "## Exercises related to Propositional Logic "
   ]
  },
  {
   "cell_type": "markdown",
   "metadata": {},
   "source": [
    "We will use a very simple, though crude and ugly, representation for Propositional Logic: Propositions are strings, and formulas are lists, starting with an operator as first element in the list, and the subformulas as second and (if appropriate) third argument. (Note that this is slightly different than the definition in the lecture, where Propositions are lists with one argument). These are formulas in Prefix Notation.\n",
    "\n",
    "In the following part, we will read several such formulas from a file (`PLknowlegebase.txt`).\n",
    "\n",
    "For simplicity, we will only consider formulas with any of the three variables P, Q, and R, and binary operators \">>\" (implies), \"&\" (and), \"|\" (or), and \"~\" (not). "
   ]
  },
  {
   "cell_type": "markdown",
   "metadata": {},
   "source": [
    "Here are some formulas as examples.\n",
    "\n",
    "(~R & P) >> Q\n",
    "\n",
    "~(((P | ~Q) >> R) >> (P & R)) \n",
    "\n",
    "~(P >> Q) | (R >> P) \n",
    "\n",
    "(P >> Q) | (Q >> ~P)\n"
   ]
  },
  {
   "cell_type": "markdown",
   "metadata": {},
   "source": [
    "The first thing you will have to do is to open the file. The code below will read every line of the file into a list called *content*.\n",
    "\n",
    "Do *not* forget to run the following cell, otherwise, the file will not be opened. import os \n"
   ]
  },
  {
   "cell_type": "code",
   "execution_count": 5,
   "metadata": {},
   "outputs": [],
   "source": [
    "import os \n",
    "from logic import *"
   ]
  },
  {
   "cell_type": "code",
   "execution_count": 6,
   "metadata": {},
   "outputs": [
    {
     "name": "stdout",
     "output_type": "stream",
     "text": [
      "C:\\Users\\keimp\\Documents\\GitHub\\knowledge-data-vu\\Assignments\\Assignment_1\\PLknowledgebase.txt\n",
      "['(~R & P) >> Q\\n', '~(((P | ~Q) >> R) >> (P & R)) \\n', '~(P >> Q) | (R >> P) \\n', '(P >> Q) | (Q >> ~P)']\n"
     ]
    }
   ],
   "source": [
    "fileDir = os.path.dirname(os.path.realpath('__file__'))\n",
    "filename = os.path.join(fileDir, 'PLknowledgebase.txt')\n",
    "print(filename)\n",
    "with open(filename) as file:\n",
    "    content = file.readlines()\n",
    "\n",
    "print(content)"
   ]
  },
  {
   "cell_type": "code",
   "execution_count": 7,
   "metadata": {},
   "outputs": [
    {
     "name": "stdout",
     "output_type": "stream",
     "text": [
      "\n",
      "(¬R ^ P) => Q\n",
      "False\n",
      "<class 'logic.Implies'>\n",
      "¬R ^ P\n",
      "\n",
      "¬(((P v ¬Q) => R) => (P ^ R))\n",
      "False\n",
      "<class 'logic.Not'>\n",
      "((P v ¬Q) => R) => (P ^ R)\n",
      "\n",
      "¬(P => Q) v (R => P)\n",
      "False\n",
      "<class 'logic.Or'>\n",
      "¬(P => Q)\n",
      "\n",
      "(P => Q) v (Q => ¬P)\n",
      "True\n",
      "<class 'logic.Or'>\n",
      "P => Q\n"
     ]
    }
   ],
   "source": [
    "P, Q, R = vars('P', 'Q', 'R')\n",
    "\n",
    "for line in content:\n",
    "    formula = eval(line.strip())\n",
    "    print()\n",
    "    print(formula)\n",
    "    print(formula.is_tautology())\n",
    "    print(type(formula))\n",
    "    print(formula.children[0])"
   ]
  },
  {
   "cell_type": "markdown",
   "metadata": {},
   "source": [
    "The last procedure makes use of the inbuilt properties of the logic package. Let us do similar stuff ourselves. \n",
    "\n",
    "### Task 1: (10 Points) Complete the procedure *prefix* that transforms the formula into Prefix notation, i.e., the operator \"sits\" in front of the two arguments.\n",
    "\n",
    "Use different symbols for the prefix operators: IMP for implication, AND for conjunction, OR for disjunction and NEG for negation. Look at the previous examples if you are unsure how to continue."
   ]
  },
  {
   "cell_type": "code",
   "execution_count": 8,
   "metadata": {},
   "outputs": [],
   "source": [
    "def prefix(s):\n",
    "    if type(s) is Or:\n",
    "        child1 = s.children[0]\n",
    "        child2 = s.children[1]\n",
    "        string = \"OR(\" + prefix(child1) + \",\" + prefix(child2) + \")\";\n",
    "        return string\n",
    "       ## Fill in the remaining cases (hint: not every formula has the same number of children) \n",
    "    elif type(s) is And:\n",
    "        child1 = s.children[0]\n",
    "        child2 = s.children[1]\n",
    "        string = \"AND(\" + prefix(child1) + \",\" + prefix(child2) + \")\";\n",
    "        return string\n",
    "    elif type(s) is Not:\n",
    "        child = s.children[0]\n",
    "        string = \"NEG(\" + prefix(child) + \")\";\n",
    "        return string\n",
    "    elif type(s) is Implies:\n",
    "        child1 = s.children[0]\n",
    "        child2 = s.children[1]\n",
    "        string = \"IMP(\" + prefix(child1) + \",\" + prefix(child2) + \")\";\n",
    "        return string\n",
    "    else:\n",
    "        return str(s)"
   ]
  },
  {
   "cell_type": "markdown",
   "metadata": {},
   "source": [
    "Execute the following line of code to check whether your procedure works correctly or not."
   ]
  },
  {
   "cell_type": "code",
   "execution_count": 9,
   "metadata": {},
   "outputs": [
    {
     "name": "stdout",
     "output_type": "stream",
     "text": [
      "(¬R ^ P) => Q                 == IMP(AND(NEG(R),P),Q)\n",
      "¬(((P v ¬Q) => R) => (P ^ R)) == NEG(IMP(IMP(OR(P,NEG(Q)),R),AND(P,R)))\n",
      "¬(P => Q) v (R => P)          == OR(NEG(IMP(P,Q)),IMP(R,P))\n",
      "(P => Q) v (Q => ¬P)          == OR(IMP(P,Q),IMP(Q,NEG(P)))\n"
     ]
    }
   ],
   "source": [
    "for line in content:\n",
    "    formula = eval(line.strip())\n",
    "    spacing = 30 - len(str(formula))\n",
    "    print(str(formula) + \" \"*spacing + \"== \" + prefix(formula))"
   ]
  },
  {
   "cell_type": "markdown",
   "metadata": {},
   "source": [
    "If you run your procedure on the input data, you should get something like the following output: \n",
    "\n",
    "    (¬R ^ P) => Q                 == IMP(AND(NEG(R),P),Q)\n",
    "    ¬(((P v ¬Q) => R) => (P ^ R)) == NEG(IMP(IMP(OR(P,NEG(Q)),R),AND(P,R)))\n",
    "    ¬(P => Q) v (R => P)          == OR(NEG(IMP(P,Q)),IMP(R,P))\n",
    "    (P => Q) v (Q => ¬P)          == OR(IMP(P,Q),IMP(Q,NEG(P)))"
   ]
  },
  {
   "cell_type": "markdown",
   "metadata": {},
   "source": [
    "### Task 2: (20 Points) Write a procedure *evaluate* that calculates the truth value of a formula. \n",
    "\n",
    "Given input formula _s_, and the three truth values for boolean variable P, Q, and R, write a procedure that tells us whether _s_ is true or false.\n",
    "\n",
    "This is a procedural way to implement the \"meaning\" of the operators (which you can read from the Truth Tables)"
   ]
  },
  {
   "cell_type": "code",
   "execution_count": 10,
   "metadata": {},
   "outputs": [],
   "source": [
    "def evaluate(s, p, q, r):\n",
    "\n",
    "    ## Evaluating for disjunction\n",
    "    if type(s) is Or:\n",
    "        child1 = s.children[0]\n",
    "        child2 = s.children[1]\n",
    "        if (evaluate(child1,p,q,r) is True) or (evaluate(child2,p,q,r) is True):\n",
    "            return True\n",
    "        else:\n",
    "            return False\n",
    "        \n",
    "    ## Evaluating for conjunction\n",
    "    elif type(s) is And:\n",
    "        child1 = s.children[0]\n",
    "        child2 = s.children[1]\n",
    "        if (evaluate(child1,p,q,r) is True) and (evaluate(child2,p,q,r) is True):\n",
    "            return True\n",
    "        else:\n",
    "            return False\n",
    "        \n",
    "    ## Evaluating for negation   \n",
    "    elif type(s) is Not:\n",
    "        child = s.children[0]\n",
    "        if evaluate(child,p,q,r) is False:\n",
    "            return True\n",
    "        else:\n",
    "            return False\n",
    "        \n",
    "    ## Evaluating for implication\n",
    "    elif type(s) is Implies:\n",
    "        child1 = s.children[0]\n",
    "        child2 = s.children[1]\n",
    "        if (evaluate(child1,p,q,r) is False) and (evaluate(child2,p,q,r) is True):\n",
    "            return True   \n",
    "        elif (evaluate(child1,p,q,r) is True) and (evaluate(child2,p,q,r) is True):\n",
    "            return True\n",
    "        elif (evaluate(child1,p,q,r) is False) and (evaluate(child2,p,q,r) is False):\n",
    "            return True\n",
    "        else:\n",
    "            return False\n",
    "\n",
    "    ## Evaluating for variables\n",
    "    elif type(s) is Variable:        \n",
    "        if str(s) == 'P':\n",
    "            return p\n",
    "        elif str(s) == 'Q':\n",
    "            return q\n",
    "        elif str(s) == 'R':\n",
    "            return r\n",
    "        \n",
    "    else:\n",
    "        print(\"Something went wrong\") "
   ]
  },
  {
   "cell_type": "markdown",
   "metadata": {},
   "source": [
    "Execute the following line of code to check whether your procedure works correctly or not."
   ]
  },
  {
   "cell_type": "code",
   "execution_count": 11,
   "metadata": {},
   "outputs": [
    {
     "name": "stdout",
     "output_type": "stream",
     "text": [
      "(~R & P) >> Q                 True\n",
      "~(((P | ~Q) >> R) >> (P & R)) False\n",
      "~(P >> Q) | (R >> P)          True\n",
      "(P >> Q) | (Q >> ~P)          True\n"
     ]
    }
   ],
   "source": [
    "for l in content:\n",
    "    formula = l.strip()\n",
    "    spacing = 30 - len(str(formula))\n",
    "    print(str(formula) + \" \"*spacing + str(evaluate(s=eval(formula), p=True, q=True, r=False)))"
   ]
  },
  {
   "cell_type": "markdown",
   "metadata": {},
   "source": [
    "If you run your program on the given input, you should get an answer like this:\n",
    "\n",
    "    (~R & P) >> Q                 True\n",
    "    ~(((P | ~Q) >> R) >> (P & R)) False\n",
    "    ~(P >> Q) | (R >> P)          True\n",
    "    (P >> Q) | (Q >> ~P)          True"
   ]
  },
  {
   "cell_type": "markdown",
   "metadata": {},
   "source": [
    "### Task 3: (10 Points) Write a procedure *tautology* that calculates whether a given formula (with maximally three variables P,Q and R) is a tautology \n",
    "Hint: Use the *evaluate* function you just wrote. Do *not* use the 'is_tautology' method seen earlier."
   ]
  },
  {
   "cell_type": "code",
   "execution_count": 12,
   "metadata": {},
   "outputs": [],
   "source": [
    "def tautology(s):\n",
    "\n",
    "    ## Evaluating for all possible truth values of P, Q, R\n",
    "    for p in [True, False]:\n",
    "        for q in [True, False]:\n",
    "            for r in [True, False]:\n",
    "                if evaluate(s,p,q,r) is False:\n",
    "                    return False\n",
    "    return True\n",
    "\n",
    "    pass"
   ]
  },
  {
   "cell_type": "markdown",
   "metadata": {},
   "source": [
    "Execute the following line of code to check whether your procedure works correctly or not."
   ]
  },
  {
   "cell_type": "code",
   "execution_count": 13,
   "metadata": {},
   "outputs": [
    {
     "name": "stdout",
     "output_type": "stream",
     "text": [
      "Formula                       Tautology\n",
      "(~R & P) >> Q                 False\n",
      "~(((P | ~Q) >> R) >> (P & R)) False\n",
      "~(P >> Q) | (R >> P)          False\n",
      "(P >> Q) | (Q >> ~P)          True\n"
     ]
    }
   ],
   "source": [
    "print(\"Formula\" + 23*\" \" + \"Tautology\")\n",
    "for l in content:\n",
    "    formula = l.strip()\n",
    "    spacing = 30 - len(str(formula))\n",
    "    print(str(formula) + \" \"*spacing + (repr(tautology(eval(formula)))))"
   ]
  },
  {
   "cell_type": "markdown",
   "metadata": {},
   "source": [
    "When you evaluate your code on the provided input, you should get something like this:\n",
    "\n",
    "    Formula                       Tautology\n",
    "    (~R & P) >> Q                 False\n",
    "    ~(((P | ~Q) >> R) >> (P & R)) False\n",
    "    ~(P >> Q) | (R >> P)          False\n",
    "    (P >> Q) | (Q >> ~P)          True"
   ]
  },
  {
   "cell_type": "markdown",
   "metadata": {},
   "source": [
    "## Exercises related to Simple Knowledge Graph Logic "
   ]
  },
  {
   "cell_type": "markdown",
   "metadata": {},
   "source": [
    "We will use a very simple, though crude and ugly, representation for Simple Knowledge Graph Logic: Resources are strings, triples are tuples of resources, and knowledge graphs are lists of tuples. So, a triple ( s p o ) will be represented as a tuple `(s, p, o)`, and a Knowledge Graph with two triples (s1, p1, o1) and (s2, p2, o2) as a list containing two tuples: `[(s1,p1,o1), (s2,p2,o2)]`.\n",
    "\n",
    "Every line in the file `knowledgegraph.txt` contains a knowledge graph (one list). \n",
    "\n",
    "Run the following code to load the Knowledge Graphs in knowledgegraph.txt"
   ]
  },
  {
   "cell_type": "code",
   "execution_count": 14,
   "metadata": {},
   "outputs": [],
   "source": [
    "import os \n",
    "fileDir = os.path.dirname(os.path.realpath('__file__'))\n",
    "filename = os.path.join(fileDir, 'knowledgegraph.txt')\n",
    "with open(filename) as file:\n",
    "    content = [[t for t in eval(g)] for g in file.readlines()]"
   ]
  },
  {
   "cell_type": "markdown",
   "metadata": {},
   "source": [
    "Maybe you want to write a function to print this graph for convenience ... (no extra points, though) "
   ]
  },
  {
   "cell_type": "code",
   "execution_count": 15,
   "metadata": {},
   "outputs": [
    {
     "name": "stdout",
     "output_type": "stream",
     "text": [
      "[('s', 'p', 'o'), ('s', 'p1', 'o2'), ('s2', 'p2', 'o')]\n",
      "[('Netherlands', 'name', '\"The Netherlands\"'), ('Netherlands', 'has_capital', 'Amsterdam'), ('Amsterdam', 'type', 'Capital'), ('Amsterdam', 'has_population', '\"921.402\"')]\n",
      "[('Netherlands', 'name', '\"The Netherlands\"'), ('Netherlands', 'has_capital', 'Amsterdam'), ('Amsterdam', 'type', 'Capital'), ('Amsterdam', 'has_population', '\"921.402\"'), ('Capital', 'type', 'City'), ('Netherlands', 'neighbours', 'Belgium'), ('Netherlands', 'type', 'Country')]\n"
     ]
    }
   ],
   "source": [
    "## Printing the content of the file\n",
    "for g in content:\n",
    "    print(g)"
   ]
  },
  {
   "cell_type": "markdown",
   "metadata": {},
   "source": [
    "The next two exercises are about syntactic transformation of Knowledge Graphs. The two target formats are simplified versions of syntaxes for the language RDF that we will introduce later. \n",
    "\n",
    "### Task 4a: (10 Points) Write a procedure to transform the Knowledge Graphs into N-triple syntax. \n",
    "N-triple is a simple (the most simple?) representation format for representing Knowledge Graphs. \n",
    "\n",
    "A triple (s,p,o) is simply written as as follows:\n",
    "\n",
    "     <s> <p> <o> . \n",
    "     \n",
    "As one string, with blanks between s,p and o, with < and > around the variables, and a dot after the triple. \n",
    "\n",
    "First, write a function that transforms a triple ('s','p','o') into a single string \"\\<s> \\<p> \\<o> .\""
   ]
  },
  {
   "cell_type": "code",
   "execution_count": 16,
   "metadata": {},
   "outputs": [],
   "source": [
    "def as_ntriple(triple):\n",
    "    ## Converting the triple to N-Triple format\n",
    "    a, b, c = triple\n",
    "    return f\"<{a}> <{b}> <{c}> .\""
   ]
  },
  {
   "cell_type": "code",
   "execution_count": 17,
   "metadata": {},
   "outputs": [],
   "source": [
    "def as_ntriples(graph):\n",
    "    ## ... and then loops through all triples in the graph (hint: you can reuse the function above)\n",
    "    return ([as_ntriple(triple) for triple in graph])\n",
    "    pass"
   ]
  },
  {
   "cell_type": "markdown",
   "metadata": {},
   "source": [
    "Execute the following line of code to check whether your procedure works correctly or not."
   ]
  },
  {
   "cell_type": "code",
   "execution_count": 18,
   "metadata": {},
   "outputs": [
    {
     "name": "stdout",
     "output_type": "stream",
     "text": [
      "['<s> <p> <o> .', '<s> <p1> <o2> .', '<s2> <p2> <o> .']\n",
      "['<Netherlands> <name> <\"The Netherlands\"> .', '<Netherlands> <has_capital> <Amsterdam> .', '<Amsterdam> <type> <Capital> .', '<Amsterdam> <has_population> <\"921.402\"> .']\n",
      "['<Netherlands> <name> <\"The Netherlands\"> .', '<Netherlands> <has_capital> <Amsterdam> .', '<Amsterdam> <type> <Capital> .', '<Amsterdam> <has_population> <\"921.402\"> .', '<Capital> <type> <City> .', '<Netherlands> <neighbours> <Belgium> .', '<Netherlands> <type> <Country> .']\n"
     ]
    }
   ],
   "source": [
    "for graph in content:\n",
    "     print(as_ntriples(graph))"
   ]
  },
  {
   "cell_type": "markdown",
   "metadata": {},
   "source": [
    "Your answer should look similar to this: <br />\n",
    "['\\<s> \\<p> \\<o> .', '\\<s> \\<p1> \\<o2> .', '\\<s2> \\<p2> \\<o> .']<br/>\n",
    "['\\<Netherlands> \\<name> \\<\"Netherlands\"> .', '\\<Netherlands> \\<has_capital> \\<Amsterdam> .', '\\<Amsterdam> \\<type> \\<Capital> .']<br/>\n",
    "['\\<Netherlands> \\<name> \\<\"Netherlands\"> .', '\\<Netherlands> \\<has_capital> \\<Amsterdam> .', '\\<Amsterdam> \\<type> \\<Capital> .', '\\<Capital> \\<type> \\<City> .', '\\<Netherlands> \\<neighbours> \\<Belgium> .', '\\<Netherlands> \\<type> \\<Country> .']"
   ]
  },
  {
   "cell_type": "markdown",
   "metadata": {},
   "source": [
    "### Task 4b (10 Points) Adjust your procedure to cope with literal objects\n",
    "\n",
    "In reality, the N-triples format specifies that only objects must be embedded between angled brackets; literal values, such as strings and numbers, are to be represented as string values, for example \"\\<s> \\<p> \\\"12\\\" .\". Since knowledge graphs are construced with an object-centric language (RDF), we only have to consider the last element of a triple.\n",
    "\n",
    "Redefine the function _as\\_triple_ to make it output valid N-triples."
   ]
  },
  {
   "cell_type": "code",
   "execution_count": 19,
   "metadata": {},
   "outputs": [],
   "source": [
    "def as_ntriple(triple):\n",
    "\n",
    "    ## Converting the triple to N-Triple format, removing angle brackets if the object is a string, and if the object is enclosed in quotation marks\n",
    "    a, b, c = triple\n",
    "    if isinstance(c, str) and ('\"' in c or \"'\" in c):\n",
    "        return f\"<{a}> <{b}> {c} .\"\n",
    "    else:\n",
    "        return f\"<{a}> <{b}> <{c}> .\"\n",
    "    pass"
   ]
  },
  {
   "cell_type": "markdown",
   "metadata": {},
   "source": [
    "Execute the following line of code to check whether your procedure works correctly or not."
   ]
  },
  {
   "cell_type": "code",
   "execution_count": 20,
   "metadata": {},
   "outputs": [
    {
     "name": "stdout",
     "output_type": "stream",
     "text": [
      "['<s> <p> <o> .', '<s> <p1> <o2> .', '<s2> <p2> <o> .']\n",
      "['<Netherlands> <name> \"The Netherlands\" .', '<Netherlands> <has_capital> <Amsterdam> .', '<Amsterdam> <type> <Capital> .', '<Amsterdam> <has_population> \"921.402\" .']\n",
      "['<Netherlands> <name> \"The Netherlands\" .', '<Netherlands> <has_capital> <Amsterdam> .', '<Amsterdam> <type> <Capital> .', '<Amsterdam> <has_population> \"921.402\" .', '<Capital> <type> <City> .', '<Netherlands> <neighbours> <Belgium> .', '<Netherlands> <type> <Country> .']\n"
     ]
    }
   ],
   "source": [
    "for graph in content:\n",
    "     print(as_ntriples(graph))"
   ]
  },
  {
   "cell_type": "markdown",
   "metadata": {},
   "source": [
    "Your answer should look similar to this: <br />\n",
    "['\\<s> \\<p> \\<o> .', '\\<s> \\<p1> \\<o2> .', '\\<s2> \\<p2> \\<o> .']<br/>\n",
    "['\\<Netherlands> \\<name> \"Netherlands\" .', '\\<Netherlands> \\<has_capital> \\<Amsterdam> .', '\\<Amsterdam> \\<type> \\<Capital> .',  '\\<Amsterdam> \\<has_population> \"921.402\" .']<br/>\n",
    "['\\<Netherlands> \\<name> \"Netherlands\" .', '\\<Netherlands> \\<has_capital> \\<Amsterdam> .', '\\<Amsterdam> \\<type> \\<Capital> .', '\\<Capital> \\<type> \\<City> .', '\\<Netherlands> \\<neighbours> \\<Belgium> .', '\\<Netherlands> \\<type> \\<Country> .',  '\\<Amsterdam> \\<has_population> \"921.402\" .']"
   ]
  },
  {
   "cell_type": "markdown",
   "metadata": {},
   "source": [
    "### Task 5: (20 Points) Write a procedure to evaluate whether a Triple (s p o) is entailed by your Knowledge Graph\n",
    "\n",
    "Remember that we can calculate whether a triple is entailed by a Knowledge Graph (w.r.t Simple Knowledge Graph Logic) by simply checking whether the triple is part of the knowledge graph.  \n",
    "\n",
    "The triples, on which you can test your implementations are located in the file: *entailedTriples.txt*. You need to open the file and check for all triples whether it is entailed by the knowledge graphs in *knowledgegraph.txt* (which is already opened). Hint: you can use *eval* to convert a raw string to a list.\n",
    "\n",
    "You might want to add auxiliary functions in extra cells if necessary."
   ]
  },
  {
   "cell_type": "code",
   "execution_count": 57,
   "metadata": {},
   "outputs": [],
   "source": [
    "def tripleEntailedBy(entailedTriples):\n",
    "    \n",
    "    ## Looping through all knowledge graphs in the content, as well as all entailed triples\n",
    "    for knowledgeGraph in content:\n",
    "        for entailedTriple in entailedTriples:\n",
    "\n",
    "            ## Checking if the entailed triple is in the knowledge graph\n",
    "            if entailedTriple in knowledgeGraph:\n",
    "                print(str(knowledgeGraph) + \" entails \" + str(entailedTriple))\n",
    "            else:\n",
    "                print(str(knowledgeGraph) + \" does NOT entail \" + str(entailedTriple))\n",
    "    pass"
   ]
  },
  {
   "cell_type": "markdown",
   "metadata": {},
   "source": [
    "Provide some code to check that your function works correctly.  "
   ]
  },
  {
   "cell_type": "code",
   "execution_count": 58,
   "metadata": {},
   "outputs": [
    {
     "name": "stdout",
     "output_type": "stream",
     "text": [
      "[('s', 'p', 'o'), ('s', 'p1', 'o2'), ('s2', 'p2', 'o')] entails ('s2', 'p2', 'o')\n",
      "[('s', 'p', 'o'), ('s', 'p1', 'o2'), ('s2', 'p2', 'o')] does NOT entail ('Netherlands', 'name', '\"The Netherlands\"')\n",
      "[('Netherlands', 'name', '\"The Netherlands\"'), ('Netherlands', 'has_capital', 'Amsterdam'), ('Amsterdam', 'type', 'Capital'), ('Amsterdam', 'has_population', '\"921.402\"')] does NOT entail ('s2', 'p2', 'o')\n",
      "[('Netherlands', 'name', '\"The Netherlands\"'), ('Netherlands', 'has_capital', 'Amsterdam'), ('Amsterdam', 'type', 'Capital'), ('Amsterdam', 'has_population', '\"921.402\"')] entails ('Netherlands', 'name', '\"The Netherlands\"')\n",
      "[('Netherlands', 'name', '\"The Netherlands\"'), ('Netherlands', 'has_capital', 'Amsterdam'), ('Amsterdam', 'type', 'Capital'), ('Amsterdam', 'has_population', '\"921.402\"'), ('Capital', 'type', 'City'), ('Netherlands', 'neighbours', 'Belgium'), ('Netherlands', 'type', 'Country')] does NOT entail ('s2', 'p2', 'o')\n",
      "[('Netherlands', 'name', '\"The Netherlands\"'), ('Netherlands', 'has_capital', 'Amsterdam'), ('Amsterdam', 'type', 'Capital'), ('Amsterdam', 'has_population', '\"921.402\"'), ('Capital', 'type', 'City'), ('Netherlands', 'neighbours', 'Belgium'), ('Netherlands', 'type', 'Country')] entails ('Netherlands', 'name', '\"The Netherlands\"')\n"
     ]
    }
   ],
   "source": [
    "filename = os.path.join(fileDir, 'entailedTriples.txt')\n",
    "with open(filename) as file:\n",
    "    triples = [eval(t) for t in file.readlines()]\n",
    "    \n",
    "# your code here\n",
    "tripleEntailedBy(triples)"
   ]
  },
  {
   "cell_type": "markdown",
   "metadata": {},
   "source": [
    "The expected output is a list of relations between graphs and triples<br />\n",
    "[('s','p','o'),('s','p1','o2'),('s2','p2','o')] entails ('s2','p2','o')<br />\n",
    "[('s','p','o'),('s','p1','o2'),('s2','p2','o')] does NOT entail ('Netherlands','name','\"The Netherlands\"')<br />\n",
    "and so on for all graphs and triples. "
   ]
  },
  {
   "cell_type": "markdown",
   "metadata": {},
   "source": [
    "### Task 6: (20 Points) Write a procedure to evaluate whether one Knowledge Graph is entailed by another Knowledge Graph"
   ]
  },
  {
   "cell_type": "markdown",
   "metadata": {},
   "source": [
    "Remember that we can calculate whether a triple is entailed by another graph (w.r.t Simple Knowledge Graph Logic) by simply checking whether the former is a subgraph of the latter. The same holds for graphs.\n",
    "\n",
    "Write a procedure to check for all of graphs in `entailedGraphs.txt` whether they are entailed by those in `knowledgegraph.txt` (which is already opened).\n",
    "\n",
    "You might want to add auxiliary functions in extra cells if necessary."
   ]
  },
  {
   "cell_type": "code",
   "execution_count": 55,
   "metadata": {},
   "outputs": [],
   "source": [
    "def graphEntailedBy(entailedGraphs):\n",
    "\n",
    "    ## Converting the triples to N-Triples format, replacing instances of 'a' with 'type'\n",
    "    def convertTriple(triple):\n",
    "        return (triple[0], 'type' if triple[1] == 'a' else triple[1], triple[2])\n",
    "    \n",
    "    ## Looping through all knowledge graphs in the content, as well as all entailed graphs\n",
    "    for knowledgeGraph in content:\n",
    "        for entailedGraph in entailedGraphs:\n",
    "            \n",
    "            ## Creates transformedGraph by converting all triples in entailedGraph using the function above\n",
    "            transformedGraph = [convertTriple(triple) for triple in entailedGraph]\n",
    "\n",
    "            ## Checks if all triples in transformedGraph are in the knowledge graph\n",
    "            if all(triple in knowledgeGraph for triple in transformedGraph):\n",
    "                print(str(knowledgeGraph) + \" entails \" + str(entailedGraph))\n",
    "            else:\n",
    "                print(str(knowledgeGraph) + \" does NOT entail \" + str(entailedGraph))\n",
    "    pass"
   ]
  },
  {
   "cell_type": "markdown",
   "metadata": {},
   "source": [
    "Provide some code to check that your function works correctly.  "
   ]
  },
  {
   "cell_type": "code",
   "execution_count": 56,
   "metadata": {},
   "outputs": [
    {
     "name": "stdout",
     "output_type": "stream",
     "text": [
      "[('s', 'p', 'o'), ('s', 'p1', 'o2'), ('s2', 'p2', 'o')] entails [('s2', 'p2', 'o'), ('s2', 'p2', 'o')]\n",
      "[('s', 'p', 'o'), ('s', 'p1', 'o2'), ('s2', 'p2', 'o')] entails [('s', 'p', 'o'), ('s2', 'p2', 'o')]\n",
      "[('s', 'p', 'o'), ('s', 'p1', 'o2'), ('s2', 'p2', 'o')] does NOT entail [('Netherlands', 'name', '\"The Netherlands\"'), ('Netherlands', 'has_capital', 'Amsterdam'), ('Capital', 'a', 'City'), ('Netherlands', 'neighbours', 'Belgium')]\n",
      "[('s', 'p', 'o'), ('s', 'p1', 'o2'), ('s2', 'p2', 'o')] does NOT entail [('Netherlands', 'has_capital', 'Amsterdam'), ('Capital', 'a', 'Country'), ('Netherlands', 'neighbours', 'Belgium')]\n",
      "[('Netherlands', 'name', '\"The Netherlands\"'), ('Netherlands', 'has_capital', 'Amsterdam'), ('Amsterdam', 'type', 'Capital'), ('Amsterdam', 'has_population', '\"921.402\"')] does NOT entail [('s2', 'p2', 'o'), ('s2', 'p2', 'o')]\n",
      "[('Netherlands', 'name', '\"The Netherlands\"'), ('Netherlands', 'has_capital', 'Amsterdam'), ('Amsterdam', 'type', 'Capital'), ('Amsterdam', 'has_population', '\"921.402\"')] does NOT entail [('s', 'p', 'o'), ('s2', 'p2', 'o')]\n",
      "[('Netherlands', 'name', '\"The Netherlands\"'), ('Netherlands', 'has_capital', 'Amsterdam'), ('Amsterdam', 'type', 'Capital'), ('Amsterdam', 'has_population', '\"921.402\"')] does NOT entail [('Netherlands', 'name', '\"The Netherlands\"'), ('Netherlands', 'has_capital', 'Amsterdam'), ('Capital', 'a', 'City'), ('Netherlands', 'neighbours', 'Belgium')]\n",
      "[('Netherlands', 'name', '\"The Netherlands\"'), ('Netherlands', 'has_capital', 'Amsterdam'), ('Amsterdam', 'type', 'Capital'), ('Amsterdam', 'has_population', '\"921.402\"')] does NOT entail [('Netherlands', 'has_capital', 'Amsterdam'), ('Capital', 'a', 'Country'), ('Netherlands', 'neighbours', 'Belgium')]\n",
      "[('Netherlands', 'name', '\"The Netherlands\"'), ('Netherlands', 'has_capital', 'Amsterdam'), ('Amsterdam', 'type', 'Capital'), ('Amsterdam', 'has_population', '\"921.402\"'), ('Capital', 'type', 'City'), ('Netherlands', 'neighbours', 'Belgium'), ('Netherlands', 'type', 'Country')] does NOT entail [('s2', 'p2', 'o'), ('s2', 'p2', 'o')]\n",
      "[('Netherlands', 'name', '\"The Netherlands\"'), ('Netherlands', 'has_capital', 'Amsterdam'), ('Amsterdam', 'type', 'Capital'), ('Amsterdam', 'has_population', '\"921.402\"'), ('Capital', 'type', 'City'), ('Netherlands', 'neighbours', 'Belgium'), ('Netherlands', 'type', 'Country')] does NOT entail [('s', 'p', 'o'), ('s2', 'p2', 'o')]\n",
      "[('Netherlands', 'name', '\"The Netherlands\"'), ('Netherlands', 'has_capital', 'Amsterdam'), ('Amsterdam', 'type', 'Capital'), ('Amsterdam', 'has_population', '\"921.402\"'), ('Capital', 'type', 'City'), ('Netherlands', 'neighbours', 'Belgium'), ('Netherlands', 'type', 'Country')] entails [('Netherlands', 'name', '\"The Netherlands\"'), ('Netherlands', 'has_capital', 'Amsterdam'), ('Capital', 'a', 'City'), ('Netherlands', 'neighbours', 'Belgium')]\n",
      "[('Netherlands', 'name', '\"The Netherlands\"'), ('Netherlands', 'has_capital', 'Amsterdam'), ('Amsterdam', 'type', 'Capital'), ('Amsterdam', 'has_population', '\"921.402\"'), ('Capital', 'type', 'City'), ('Netherlands', 'neighbours', 'Belgium'), ('Netherlands', 'type', 'Country')] does NOT entail [('Netherlands', 'has_capital', 'Amsterdam'), ('Capital', 'a', 'Country'), ('Netherlands', 'neighbours', 'Belgium')]\n"
     ]
    }
   ],
   "source": [
    "filename = os.path.join(fileDir, 'entailedGraphs.txt')\n",
    "with open(filename) as file:\n",
    "    graphs = [[t for t in eval(g)] for g in file.readlines()]\n",
    "\n",
    "# your code here\n",
    "graphEntailedBy(graphs)"
   ]
  },
  {
   "cell_type": "markdown",
   "metadata": {},
   "source": [
    "The expected output is a list of relations between graphs and graphs<br />\n",
    "[('s', 'p', 'o'), ('s', 'p1', 'o2'), ('s2', 'p2', 'o')] entails [('s2', 'p2', 'o'), ('s2', 'p2', 'o')]<br />\n",
    "[('s', 'p', 'o'), ('s', 'p1', 'o2'), ('s2', 'p2', 'o')] entails [('s', 'p', 'o'), ('s2', 'p2', 'o')]<br />\n",
    "[('s', 'p', 'o'), ('s', 'p1', 'o2'), ('s2', 'p2', 'o')] does NOT entail [('Netherlands', 'name', '\"The Netherlands\"'), ('Netherlands', 'has_capital', 'Amsterdam'), ('Capital', 'a', 'City'), ('Netherlands', 'neighbours', 'Belgium')]\n",
    "<br />\n",
    "and so on for all graphs and triples. "
   ]
  }
 ],
 "metadata": {
  "kernelspec": {
   "display_name": "Python 3 (ipykernel)",
   "language": "python",
   "name": "python3"
  },
  "language_info": {
   "codemirror_mode": {
    "name": "ipython",
    "version": 3
   },
   "file_extension": ".py",
   "mimetype": "text/x-python",
   "name": "python",
   "nbconvert_exporter": "python",
   "pygments_lexer": "ipython3",
   "version": "3.12.3"
  }
 },
 "nbformat": 4,
 "nbformat_minor": 4
}
